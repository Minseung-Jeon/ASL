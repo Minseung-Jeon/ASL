{
 "cells": [
  {
   "cell_type": "markdown",
   "metadata": {},
   "source": [
    "### Importing imports"
   ]
  },
  {
   "cell_type": "code",
   "execution_count": 1,
   "metadata": {},
   "outputs": [],
   "source": [
    "#import tensorflow library\n",
    "import tensorflow as tf\n",
    "\n",
    "import matplotlib.pyplot as plt\n",
    "\n",
    "#imports ImageDataGenerator class from Keras\n",
    "from tensorflow.keras.preprocessing.image import ImageDataGenerator\n",
    "from tensorflow.keras.callbacks import EarlyStopping"
   ]
  },
  {
   "cell_type": "markdown",
   "metadata": {},
   "source": [
    "\n",
    "### Preprocessing and data augmentation"
   ]
  },
  {
   "cell_type": "code",
   "execution_count": 2,
   "metadata": {},
   "outputs": [],
   "source": [
    "\n",
    "#creating ImageDataGenerator object\n",
    "train_datagen = ImageDataGenerator(\n",
    "    #rescales pixel values to 0-1 range from 0-255 range\n",
    "    rescale = 1. /255,\n",
    "    rotation_range = 20,\n",
    "    width_shift_range = 0.2,\n",
    "    height_shift_range = 0.2,\n",
    "    #shearing the image for variations \n",
    "    shear_range = 0.2,\n",
    "    #zoom transformation for variations\n",
    "    zoom_range = 0.2,\n",
    "    #randomly flips the images horizontally, helps prevent overfitting\n",
    "    #also helps doubles the size of training dataset, providing more examples to learn from\n",
    "    horizontal_flip = True,\n",
    "    #20% of the training data will be used as validation data\n",
    "    validation_split = 0.2,\n",
    "    fill_mode = 'nearest'\n",
    ")"
   ]
  },
  {
   "cell_type": "markdown",
   "metadata": {},
   "source": [
    "### generate batches of data for model training, drawn directly from a designated directory"
   ]
  },
  {
   "cell_type": "code",
   "execution_count": 3,
   "metadata": {},
   "outputs": [
    {
     "name": "stdout",
     "output_type": "stream",
     "text": [
      "Found 69600 images belonging to 29 classes.\n",
      "Found 17400 images belonging to 29 classes.\n"
     ]
    }
   ],
   "source": [
    "\n",
    "#Creates a data generator that loads images from the specified directory\n",
    "train_generator = train_datagen.flow_from_directory(\n",
    "    r'archive\\asl_alphabet_train\\asl_alphabet_train',\n",
    "    # resizes images to 64x64 pixels\n",
    "    target_size = (128, 128),\n",
    "    #specifies the batch size for training\n",
    "    batch_size = 32,\n",
    "    #indicates categorical classification\n",
    "    class_mode = 'categorical',\n",
    "    #Loads images in grayscale mode\n",
    "    color_mode = 'grayscale',\n",
    "    subset = 'training',\n",
    ")\n",
    "\n",
    "\n",
    "validation_generator = train_datagen.flow_from_directory(\n",
    "    r'archive\\asl_alphabet_train\\asl_alphabet_train',\n",
    "    target_size = (128, 128),\n",
    "    batch_size = 32,\n",
    "    class_mode = 'categorical',\n",
    "    color_mode = 'grayscale',\n",
    "    subset = 'validation',\n",
    ")"
   ]
  },
  {
   "cell_type": "markdown",
   "metadata": {},
   "source": [
    "### Model Creation\n"
   ]
  },
  {
   "cell_type": "code",
   "execution_count": 4,
   "metadata": {},
   "outputs": [
    {
     "name": "stderr",
     "output_type": "stream",
     "text": [
      "c:\\Users\\tonyj\\Desktop\\2024 Fall\\CPS 843\\ASL\\.venv\\Lib\\site-packages\\keras\\src\\layers\\convolutional\\base_conv.py:107: UserWarning: Do not pass an `input_shape`/`input_dim` argument to a layer. When using Sequential models, prefer using an `Input(shape)` object as the first layer in the model instead.\n",
      "  super().__init__(activity_regularizer=activity_regularizer, **kwargs)\n"
     ]
    }
   ],
   "source": [
    "\n",
    "#defining CNN model using tensorflow and keras\n",
    "#creates a sequential model where layers are linearly stacked\n",
    "model = tf.keras.models.Sequential([\n",
    "    #takes 64x64 pixel grayscale images as input\n",
    "    tf.keras.layers.Input(shape = (128, 128, 1)),\n",
    "    #adds convolutional layers to extract features\n",
    "    #32 filter(kernals) in the layer\n",
    "    # size of the filter is 3x3\n",
    "    # uses relu activation function\n",
    "    tf.keras.layers.Conv2D(32, (3, 3), activation = 'relu', input_shape = (64, 64, 1)),\n",
    "    #adds pooling layer to reduce dimensionality \n",
    "    #size of each filter is 2x2\n",
    "    tf.keras.layers.MaxPooling2D((2, 2)),\n",
    "    tf.keras.layers.Conv2D(64, (3,3), activation = 'relu'),\n",
    "    tf.keras.layers.MaxPooling2D((2, 2)),\n",
    "    tf.keras.layers.Conv2D(64, (3,3), activation = 'relu'),\n",
    "    tf.keras.layers.MaxPooling2D((2, 2)),\n",
    "    # this layer converts the multi-dimensional data into a single, long vector\n",
    "    tf.keras.layers.Flatten(),\n",
    "\n",
    "    #dense layer where each neuron is connected to every neuron in the previous layer\n",
    "    #first one has 128 neurons, second one has 29 neurons\n",
    "    tf.keras.layers.Dense(128, activation = 'relu'),\n",
    "    tf.keras.layers.Dense(29, activation='softmax')\n",
    "])"
   ]
  },
  {
   "cell_type": "markdown",
   "metadata": {},
   "source": [
    "### Early stopping and model fit"
   ]
  },
  {
   "cell_type": "code",
   "execution_count": null,
   "metadata": {},
   "outputs": [
    {
     "name": "stderr",
     "output_type": "stream",
     "text": [
      "c:\\Users\\tonyj\\Desktop\\2024 Fall\\CPS 843\\ASL\\.venv\\Lib\\site-packages\\keras\\src\\trainers\\data_adapters\\py_dataset_adapter.py:121: UserWarning: Your `PyDataset` class should call `super().__init__(**kwargs)` in its constructor. `**kwargs` can include `workers`, `use_multiprocessing`, `max_queue_size`. Do not pass these arguments to `fit()`, as they will be ignored.\n",
      "  self._warn_if_super_not_called()\n"
     ]
    },
    {
     "name": "stdout",
     "output_type": "stream",
     "text": [
      "Epoch 1/15\n",
      "\u001b[1m2175/2175\u001b[0m \u001b[32m━━━━━━━━━━━━━━━━━━━━\u001b[0m\u001b[37m\u001b[0m \u001b[1m0s\u001b[0m 325ms/step - accuracy: 0.1486 - loss: 2.9504"
     ]
    },
    {
     "name": "stderr",
     "output_type": "stream",
     "text": [
      "c:\\Users\\tonyj\\Desktop\\2024 Fall\\CPS 843\\ASL\\.venv\\Lib\\site-packages\\keras\\src\\trainers\\data_adapters\\py_dataset_adapter.py:121: UserWarning: Your `PyDataset` class should call `super().__init__(**kwargs)` in its constructor. `**kwargs` can include `workers`, `use_multiprocessing`, `max_queue_size`. Do not pass these arguments to `fit()`, as they will be ignored.\n",
      "  self._warn_if_super_not_called()\n"
     ]
    },
    {
     "name": "stdout",
     "output_type": "stream",
     "text": [
      "\u001b[1m2175/2175\u001b[0m \u001b[32m━━━━━━━━━━━━━━━━━━━━\u001b[0m\u001b[37m\u001b[0m \u001b[1m883s\u001b[0m 405ms/step - accuracy: 0.1487 - loss: 2.9502 - val_accuracy: 0.2753 - val_loss: 2.4238\n",
      "Epoch 2/15\n",
      "\u001b[1m2175/2175\u001b[0m \u001b[32m━━━━━━━━━━━━━━━━━━━━\u001b[0m\u001b[37m\u001b[0m \u001b[1m284s\u001b[0m 131ms/step - accuracy: 0.5062 - loss: 1.5832 - val_accuracy: 0.3780 - val_loss: 2.0707\n",
      "Epoch 3/15\n",
      "\u001b[1m2175/2175\u001b[0m \u001b[32m━━━━━━━━━━━━━━━━━━━━\u001b[0m\u001b[37m\u001b[0m \u001b[1m267s\u001b[0m 123ms/step - accuracy: 0.6446 - loss: 1.1007 - val_accuracy: 0.4141 - val_loss: 2.0521\n",
      "Epoch 4/15\n",
      "\u001b[1m2175/2175\u001b[0m \u001b[32m━━━━━━━━━━━━━━━━━━━━\u001b[0m\u001b[37m\u001b[0m \u001b[1m267s\u001b[0m 123ms/step - accuracy: 0.7151 - loss: 0.8688 - val_accuracy: 0.4657 - val_loss: 1.7527\n",
      "Epoch 5/15\n",
      "\u001b[1m2175/2175\u001b[0m \u001b[32m━━━━━━━━━━━━━━━━━━━━\u001b[0m\u001b[37m\u001b[0m \u001b[1m305s\u001b[0m 140ms/step - accuracy: 0.7627 - loss: 0.7221 - val_accuracy: 0.5295 - val_loss: 1.5887\n",
      "Epoch 6/15\n",
      "\u001b[1m2175/2175\u001b[0m \u001b[32m━━━━━━━━━━━━━━━━━━━━\u001b[0m\u001b[37m\u001b[0m \u001b[1m268s\u001b[0m 123ms/step - accuracy: 0.7929 - loss: 0.6315 - val_accuracy: 0.5503 - val_loss: 1.5106\n",
      "Epoch 7/15\n",
      "\u001b[1m2175/2175\u001b[0m \u001b[32m━━━━━━━━━━━━━━━━━━━━\u001b[0m\u001b[37m\u001b[0m \u001b[1m268s\u001b[0m 123ms/step - accuracy: 0.8153 - loss: 0.5579 - val_accuracy: 0.5574 - val_loss: 1.5117\n",
      "Epoch 8/15\n",
      "\u001b[1m2175/2175\u001b[0m \u001b[32m━━━━━━━━━━━━━━━━━━━━\u001b[0m\u001b[37m\u001b[0m \u001b[1m269s\u001b[0m 124ms/step - accuracy: 0.8308 - loss: 0.5111 - val_accuracy: 0.5929 - val_loss: 1.4490\n",
      "Epoch 9/15\n",
      "\u001b[1m2175/2175\u001b[0m \u001b[32m━━━━━━━━━━━━━━━━━━━━\u001b[0m\u001b[37m\u001b[0m \u001b[1m267s\u001b[0m 123ms/step - accuracy: 0.8456 - loss: 0.4615 - val_accuracy: 0.5843 - val_loss: 1.5879\n",
      "Epoch 10/15\n",
      "\u001b[1m2175/2175\u001b[0m \u001b[32m━━━━━━━━━━━━━━━━━━━━\u001b[0m\u001b[37m\u001b[0m \u001b[1m267s\u001b[0m 123ms/step - accuracy: 0.8568 - loss: 0.4320 - val_accuracy: 0.6035 - val_loss: 1.4425\n",
      "Epoch 11/15\n",
      "\u001b[1m2175/2175\u001b[0m \u001b[32m━━━━━━━━━━━━━━━━━━━━\u001b[0m\u001b[37m\u001b[0m \u001b[1m267s\u001b[0m 123ms/step - accuracy: 0.8685 - loss: 0.4024 - val_accuracy: 0.6158 - val_loss: 1.3328\n",
      "Epoch 12/15\n",
      "\u001b[1m2175/2175\u001b[0m \u001b[32m━━━━━━━━━━━━━━━━━━━━\u001b[0m\u001b[37m\u001b[0m \u001b[1m269s\u001b[0m 124ms/step - accuracy: 0.8786 - loss: 0.3692 - val_accuracy: 0.6281 - val_loss: 1.4274\n",
      "Epoch 13/15\n",
      "\u001b[1m2175/2175\u001b[0m \u001b[32m━━━━━━━━━━━━━━━━━━━━\u001b[0m\u001b[37m\u001b[0m \u001b[1m266s\u001b[0m 122ms/step - accuracy: 0.8845 - loss: 0.3501 - val_accuracy: 0.6091 - val_loss: 1.4978\n",
      "Epoch 14/15\n",
      "\u001b[1m2175/2175\u001b[0m \u001b[32m━━━━━━━━━━━━━━━━━━━━\u001b[0m\u001b[37m\u001b[0m \u001b[1m266s\u001b[0m 122ms/step - accuracy: 0.8907 - loss: 0.3328 - val_accuracy: 0.6376 - val_loss: 1.3160\n",
      "Epoch 15/15\n",
      "\u001b[1m2175/2175\u001b[0m \u001b[32m━━━━━━━━━━━━━━━━━━━━\u001b[0m\u001b[37m\u001b[0m \u001b[1m266s\u001b[0m 122ms/step - accuracy: 0.8949 - loss: 0.3114 - val_accuracy: 0.6456 - val_loss: 1.4349\n"
     ]
    },
    {
     "name": "stderr",
     "output_type": "stream",
     "text": [
      "WARNING:absl:You are saving your model as an HDF5 file via `model.save()` or `keras.saving.save_model(model)`. This file format is considered legacy. We recommend using instead the native Keras format, e.g. `model.save('my_model.keras')` or `keras.saving.save_model(model, 'my_model.keras')`. \n"
     ]
    }
   ],
   "source": [
    "\n",
    "#compiles the model\n",
    "#uses adam optimizer\n",
    "#loss function is categorical crossentropy (measures the difference between model's predictions and true label)\n",
    "#specifies the metric used to evaluate the mode's performance during training\n",
    "model.compile(optimizer = 'adam', loss = 'categorical_crossentropy', metrics = ['accuracy'])\n",
    "\n",
    "#early stopping technique to prevent overfitting\n",
    "early_stopping = EarlyStopping(\n",
    "    monitor = \"val_loss\",\n",
    "    #if validation loss does not improve for 3 epochs, training will stop\n",
    "    patience = 3,\n",
    "    #ensure model's weights are restored from the epoch with the best validation loss\n",
    "    restore_best_weights = True,\n",
    ")\n",
    "\n",
    "#initializes training of the model (actual learning happens)\n",
    "#train generator is the data generator created earlier\n",
    "#model goes through the training data 20 times\n",
    "history = model.fit(\n",
    "    train_generator,\n",
    "    epochs=15,\n",
    "    validation_data = validation_generator,\n",
    "    callbacks=[early_stopping],\n",
    ")\n",
    "\n",
    "model.save('asl_model.h5')"
   ]
  },
  {
   "cell_type": "markdown",
   "metadata": {},
   "source": [
    "### Plotting the graph"
   ]
  },
  {
   "cell_type": "code",
   "execution_count": 7,
   "metadata": {},
   "outputs": [
    {
     "ename": "NameError",
     "evalue": "name 'history' is not defined",
     "output_type": "error",
     "traceback": [
      "\u001b[1;31m---------------------------------------------------------------------------\u001b[0m",
      "\u001b[1;31mNameError\u001b[0m                                 Traceback (most recent call last)",
      "Cell \u001b[1;32mIn[7], line 2\u001b[0m\n\u001b[0;32m      1\u001b[0m \u001b[38;5;66;03m# plot the training and validation accuracy\u001b[39;00m\n\u001b[1;32m----> 2\u001b[0m plt\u001b[38;5;241m.\u001b[39mplot(\u001b[43mhistory\u001b[49m\u001b[38;5;241m.\u001b[39mhistory[\u001b[38;5;124m'\u001b[39m\u001b[38;5;124maccuracy\u001b[39m\u001b[38;5;124m'\u001b[39m])\n\u001b[0;32m      3\u001b[0m plt\u001b[38;5;241m.\u001b[39mplot(history\u001b[38;5;241m.\u001b[39mhistory[\u001b[38;5;124m'\u001b[39m\u001b[38;5;124mval_accuracy\u001b[39m\u001b[38;5;124m'\u001b[39m])\n\u001b[0;32m      4\u001b[0m plt\u001b[38;5;241m.\u001b[39mtitle(\u001b[38;5;124m'\u001b[39m\u001b[38;5;124mModel accuracy\u001b[39m\u001b[38;5;124m'\u001b[39m)\n",
      "\u001b[1;31mNameError\u001b[0m: name 'history' is not defined"
     ]
    }
   ],
   "source": [
    "\n",
    "# plot the training and validation accuracy\n",
    "plt.plot(history.history['accuracy'])\n",
    "plt.plot(history.history['val_accuracy'])\n",
    "plt.title('Model accuracy')\n",
    "plt.xlabel(\"Accuracy\")\n",
    "plt.ylabel('Epoch')\n",
    "plt.legend(['Train', 'Validation'], loc = 'upper left')\n",
    "plt.show()\n",
    "\n",
    "#plot the training and validation loss\n",
    "plt.plot(history.history['loss'])\n",
    "plt.plot(history.history['val_loss'])\n",
    "plt.title(\"Model Loss\")\n",
    "plt.ylabel('Loss')\n",
    "plt.xlabel('Epoch')\n",
    "plt.legend(['Train', 'Validation'], loc = 'upper left')\n",
    "plt.show()"
   ]
  }
 ],
 "metadata": {
  "kernelspec": {
   "display_name": ".venv",
   "language": "python",
   "name": "python3"
  },
  "language_info": {
   "codemirror_mode": {
    "name": "ipython",
    "version": 3
   },
   "file_extension": ".py",
   "mimetype": "text/x-python",
   "name": "python",
   "nbconvert_exporter": "python",
   "pygments_lexer": "ipython3",
   "version": "3.12.7"
  }
 },
 "nbformat": 4,
 "nbformat_minor": 2
}
